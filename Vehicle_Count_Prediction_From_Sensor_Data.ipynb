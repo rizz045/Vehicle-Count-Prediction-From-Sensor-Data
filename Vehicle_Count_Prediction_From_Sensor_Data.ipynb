{
  "nbformat": 4,
  "nbformat_minor": 0,
  "metadata": {
    "colab": {
      "provenance": []
    },
    "kernelspec": {
      "name": "python3",
      "display_name": "Python 3"
    },
    "language_info": {
      "name": "python"
    }
  },
  "cells": [
    {
      "cell_type": "markdown",
      "source": [
        "**Column Details:**\n",
        "- **DateTime:** Contains time stamp\n",
        "- **Vehicles:** Number of vehicles at that particular time"
      ],
      "metadata": {
        "id": "cYzfvkEC6B9y"
      }
    },
    {
      "cell_type": "code",
      "execution_count": null,
      "metadata": {
        "id": "WCOWbGAs3J9Z"
      },
      "outputs": [],
      "source": []
    }
  ]
}